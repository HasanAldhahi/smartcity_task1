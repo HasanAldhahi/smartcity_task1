{
 "cells": [
  {
   "cell_type": "code",
   "execution_count": 2,
   "metadata": {},
   "outputs": [
    {
     "name": "stdout",
     "output_type": "stream",
     "text": [
      "src.visualization.visualize_image_with_3d_boxes\n",
      "Hello\n",
      "./a9_dataset_r02_s04/images/s110_camera_basler_south1_8mm\n",
      "Found 563 images in ./a9_dataset_r02_s04/images/s110_camera_basler_south1_8mm\n",
      "Found 563 point cloud files.\n",
      "Found 563 label files.\n",
      "image:  ./a9_dataset_r02_s04/images/s110_camera_basler_south1_8mm/1653330059_125630248_s110_camera_basler_south1_8mm.jpg\n",
      "Loading perspective from ./calib/s110_camera_basler_south1_8mm.json...\n",
      "num points within image:  2609\n",
      "image:  ./a9_dataset_r02_s04/images/s110_camera_basler_south1_8mm/1653330059_191587126_s110_camera_basler_south1_8mm.jpg\n"
     ]
    },
    {
     "ename": "AttributeError",
     "evalue": "'NoneType' object has no attribute 'project_point_cloud_to_image'",
     "output_type": "error",
     "traceback": [
      "\u001b[0;31m---------------------------------------------------------------------------\u001b[0m",
      "\u001b[0;31mAttributeError\u001b[0m                            Traceback (most recent call last)",
      "Cell \u001b[0;32mIn[2], line 6\u001b[0m\n\u001b[1;32m      1\u001b[0m \u001b[38;5;28;01mfrom\u001b[39;00m \u001b[38;5;21;01msrc\u001b[39;00m\u001b[38;5;21;01m.\u001b[39;00m\u001b[38;5;21;01mvisualization\u001b[39;00m\u001b[38;5;21;01m.\u001b[39;00m\u001b[38;5;21;01mvisualize_image_with_3d_boxes\u001b[39;00m \u001b[38;5;28;01mimport\u001b[39;00m \u001b[38;5;241m*\u001b[39m\n\u001b[1;32m      2\u001b[0m \u001b[38;5;28mprint\u001b[39m(visualize_images\u001b[38;5;241m.\u001b[39m\u001b[38;5;18m__module__\u001b[39m)\n\u001b[0;32m----> 6\u001b[0m \u001b[43mvisualize_images\u001b[49m\u001b[43m(\u001b[49m\n\u001b[1;32m      7\u001b[0m \u001b[43m    \u001b[49m\u001b[43minput_folder_path_images\u001b[49m\u001b[38;5;241;43m=\u001b[39;49m\u001b[38;5;124;43m\"\u001b[39;49m\u001b[38;5;124;43m./a9_dataset_r02_s04/images/s110_camera_basler_south1_8mm\u001b[39;49m\u001b[38;5;124;43m\"\u001b[39;49m\u001b[43m,\u001b[49m\u001b[43m \u001b[49m\n\u001b[1;32m      8\u001b[0m \u001b[43m    \u001b[49m\u001b[43minput_folder_path_point_clouds\u001b[49m\u001b[38;5;241;43m=\u001b[39;49m\u001b[38;5;124;43m\"\u001b[39;49m\u001b[38;5;124;43m./a9_dataset_r02_s04/point_clouds/s110_lidar_ouster_south\u001b[39;49m\u001b[38;5;124;43m\"\u001b[39;49m\u001b[43m,\u001b[49m\u001b[43m  \u001b[49m\u001b[38;5;66;43;03m# Specify the actual path if available\u001b[39;49;00m\n\u001b[1;32m      9\u001b[0m \u001b[43m    \u001b[49m\u001b[43minput_folder_path_labels\u001b[49m\u001b[38;5;241;43m=\u001b[39;49m\u001b[38;5;124;43m\"\u001b[39;49m\u001b[38;5;124;43m./a9_dataset_r02_s04/labels_point_clouds/s110_lidar_ouster_south\u001b[39;49m\u001b[38;5;124;43m\"\u001b[39;49m\u001b[43m,\u001b[49m\n\u001b[1;32m     10\u001b[0m \u001b[43m    \u001b[49m\u001b[43mcamera_id\u001b[49m\u001b[38;5;241;43m=\u001b[39;49m\u001b[38;5;124;43m\"\u001b[39;49m\u001b[38;5;124;43ms110_camera_basler_south1_8mm\u001b[39;49m\u001b[38;5;124;43m\"\u001b[39;49m\u001b[43m,\u001b[49m\n\u001b[1;32m     11\u001b[0m \u001b[43m    \u001b[49m\u001b[43mlidar_id\u001b[49m\u001b[38;5;241;43m=\u001b[39;49m\u001b[38;5;124;43m\"\u001b[39;49m\u001b[38;5;124;43ms110_lidar_ouster_south\u001b[39;49m\u001b[38;5;124;43m\"\u001b[39;49m\u001b[43m,\u001b[49m\n\u001b[1;32m     12\u001b[0m \u001b[43m    \u001b[49m\u001b[43mviz_mode\u001b[49m\u001b[38;5;241;43m=\u001b[39;49m\u001b[38;5;124;43m\"\u001b[39;49m\u001b[38;5;124;43mbox2d,mask,box3d,point_cloud,track_history\u001b[39;49m\u001b[38;5;124;43m\"\u001b[39;49m\u001b[43m,\u001b[49m\n\u001b[1;32m     13\u001b[0m \u001b[43m    \u001b[49m\u001b[43mviz_color_mode\u001b[49m\u001b[38;5;241;43m=\u001b[39;49m\u001b[38;5;124;43m\"\u001b[39;49m\u001b[38;5;124;43mby_track_id\u001b[39;49m\u001b[38;5;124;43m\"\u001b[39;49m\u001b[43m,\u001b[49m\n\u001b[1;32m     14\u001b[0m \u001b[43m    \u001b[49m\u001b[43moutput_folder_path_visualization\u001b[49m\u001b[38;5;241;43m=\u001b[39;49m\u001b[38;5;124;43m\"\u001b[39;49m\u001b[38;5;124;43m./output\u001b[39;49m\u001b[38;5;124;43m\"\u001b[39;49m\u001b[43m,\u001b[49m\n\u001b[1;32m     15\u001b[0m \u001b[43m    \u001b[49m\u001b[43mdetections_coordinate_system_origin\u001b[49m\u001b[38;5;241;43m=\u001b[39;49m\u001b[38;5;124;43m\"\u001b[39;49m\u001b[38;5;124;43ms110_base,s110_lidar_ouster_south\u001b[39;49m\u001b[38;5;124;43m\"\u001b[39;49m\u001b[43m,\u001b[49m\n\u001b[1;32m     16\u001b[0m \u001b[43m    \u001b[49m\u001b[43mlabels_coordinate_system_origin\u001b[49m\u001b[38;5;241;43m=\u001b[39;49m\u001b[38;5;124;43m\"\u001b[39;49m\u001b[38;5;124;43ms110_base,s110_lidar_ouster_south\u001b[39;49m\u001b[38;5;124;43m\"\u001b[39;49m\u001b[43m,\u001b[49m\n\u001b[1;32m     17\u001b[0m \u001b[43m    \u001b[49m\u001b[43mfile_path_calibration_data\u001b[49m\u001b[43m \u001b[49m\u001b[38;5;241;43m=\u001b[39;49m\u001b[43m \u001b[49m\u001b[38;5;124;43m\"\u001b[39;49m\u001b[38;5;124;43m./calib/s110_camera_basler_south1_8mm.json\u001b[39;49m\u001b[38;5;124;43m\"\u001b[39;49m\n\u001b[1;32m     18\u001b[0m \u001b[43m)\u001b[49m\n",
      "File \u001b[0;32m~/Desktop/test/smartcity_task1/src/visualization/visualize_image_with_3d_boxes.py:633\u001b[0m, in \u001b[0;36mvisualize_images\u001b[0;34m(input_folder_path_images, input_folder_path_point_clouds, input_folder_path_labels, input_folder_path_detections, camera_id, lidar_id, file_path_calibration_data, labels_coordinate_system_origin, detections_coordinate_system_origin, input_folder_path_v2i_transformation_matrices, viz_mode, viz_color_mode, output_folder_path_visualization, dataset_release)\u001b[0m\n\u001b[1;32m    629\u001b[0m         points_3d_homogeneous \u001b[38;5;241m=\u001b[39m np\u001b[38;5;241m.\u001b[39mhstack((points_3d, np\u001b[38;5;241m.\u001b[39mones((points_3d\u001b[38;5;241m.\u001b[39mshape[\u001b[38;5;241m0\u001b[39m], \u001b[38;5;241m1\u001b[39m))))\n\u001b[1;32m    630\u001b[0m         points_3d \u001b[38;5;241m=\u001b[39m np\u001b[38;5;241m.\u001b[39mmatmul(np\u001b[38;5;241m.\u001b[39mlinalg\u001b[38;5;241m.\u001b[39minv(transformation_matrix_vehicle_lidar_to_infra_lidar),\n\u001b[1;32m    631\u001b[0m                               points_3d_homogeneous\u001b[38;5;241m.\u001b[39mT)\u001b[38;5;241m.\u001b[39mT\n\u001b[0;32m--> 633\u001b[0m     img \u001b[38;5;241m=\u001b[39m \u001b[43mutils\u001b[49m\u001b[38;5;241;43m.\u001b[39;49m\u001b[43mproject_point_cloud_to_image\u001b[49m(img, points_3d, lidar_id\u001b[38;5;241m=\u001b[39mlidar_id,\n\u001b[1;32m    634\u001b[0m                                              camera_id\u001b[38;5;241m=\u001b[39mcamera_id)\n\u001b[1;32m    635\u001b[0m \u001b[38;5;28;01melse\u001b[39;00m:\n\u001b[1;32m    636\u001b[0m     \u001b[38;5;28mprint\u001b[39m(\u001b[38;5;124m\"\u001b[39m\u001b[38;5;124mNo point cloud file found. Please set input_folder_path_point_clouds.\u001b[39m\u001b[38;5;124m\"\u001b[39m)\n",
      "\u001b[0;31mAttributeError\u001b[0m: 'NoneType' object has no attribute 'project_point_cloud_to_image'"
     ]
    }
   ],
   "source": [
    "from src.visualization.visualize_image_with_3d_boxes import *\n",
    "print(visualize_images.__module__)\n",
    "\n",
    "\n",
    "\n",
    "visualize_images(\n",
    "    input_folder_path_images=\"./a9_dataset_r02_s04/images/s110_camera_basler_south1_8mm\", \n",
    "    input_folder_path_point_clouds=\"./a9_dataset_r02_s04/point_clouds/s110_lidar_ouster_south\",  # Specify the actual path if available\n",
    "    input_folder_path_labels=\"./a9_dataset_r02_s04/labels_point_clouds/s110_lidar_ouster_south\",\n",
    "    camera_id=\"s110_camera_basler_south1_8mm\",\n",
    "    lidar_id=\"s110_lidar_ouster_south\",\n",
    "    viz_mode=\"box2d,mask,box3d,point_cloud,track_history\",\n",
    "    viz_color_mode=\"by_track_id\",\n",
    "    output_folder_path_visualization=\"./output\",\n",
    "    detections_coordinate_system_origin=\"s110_base,s110_lidar_ouster_south\",\n",
    "    labels_coordinate_system_origin=\"s110_base,s110_lidar_ouster_south\",\n",
    "    file_path_calibration_data = \"./calib/s110_camera_basler_south1_8mm.json\"\n",
    ")\n"
   ]
  },
  {
   "cell_type": "code",
   "execution_count": null,
   "metadata": {},
   "outputs": [
    {
     "ename": "AttributeError",
     "evalue": "module 'pypcd.pypcd' has no attribute '__version__'",
     "output_type": "error",
     "traceback": [
      "\u001b[0;31m---------------------------------------------------------------------------\u001b[0m",
      "\u001b[0;31mAttributeError\u001b[0m                            Traceback (most recent call last)",
      "Cell \u001b[0;32mIn[29], line 2\u001b[0m\n\u001b[1;32m      1\u001b[0m \u001b[38;5;28;01mfrom\u001b[39;00m \u001b[38;5;21;01mpypcd\u001b[39;00m \u001b[38;5;28;01mimport\u001b[39;00m pypcd\n\u001b[0;32m----> 2\u001b[0m \u001b[38;5;28mprint\u001b[39m(\u001b[43mpypcd\u001b[49m\u001b[38;5;241;43m.\u001b[39;49m\u001b[43m__version__\u001b[49m)\n",
      "\u001b[0;31mAttributeError\u001b[0m: module 'pypcd.pypcd' has no attribute '__version__'"
     ]
    }
   ],
   "source": []
  }
 ],
 "metadata": {
  "kernelspec": {
   "display_name": "base",
   "language": "python",
   "name": "python3"
  },
  "language_info": {
   "codemirror_mode": {
    "name": "ipython",
    "version": 3
   },
   "file_extension": ".py",
   "mimetype": "text/x-python",
   "name": "python",
   "nbconvert_exporter": "python",
   "pygments_lexer": "ipython3",
   "version": "3.9.19"
  }
 },
 "nbformat": 4,
 "nbformat_minor": 2
}
